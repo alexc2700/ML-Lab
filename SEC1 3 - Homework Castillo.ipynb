{
 "cells": [
  {
   "cell_type": "code",
   "execution_count": 1,
   "id": "1022e4d8",
   "metadata": {},
   "outputs": [],
   "source": [
    "import pandas as pd"
   ]
  },
  {
   "cell_type": "markdown",
   "id": "a98f5070",
   "metadata": {},
   "source": [
    "# 0.) Clean the Apple Data to get a quarterly series of EPS."
   ]
  },
  {
   "cell_type": "code",
   "execution_count": 70,
   "id": "c7f8e883",
   "metadata": {
    "scrolled": true
   },
   "outputs": [],
   "source": [
    "X = pd.read_csv('AAPL_quarterly_financials.csv')\n"
   ]
  },
  {
   "cell_type": "code",
   "execution_count": 71,
   "id": "454834fb",
   "metadata": {},
   "outputs": [],
   "source": [
    "X.index = X.name"
   ]
  },
  {
   "cell_type": "code",
   "execution_count": 72,
   "id": "f56743ef",
   "metadata": {},
   "outputs": [],
   "source": [
    "X = pd.DataFrame(X.loc['BasicEPS', :]).iloc[2:, :]\n",
    "\n",
    "X.index = pd.to_datetime(X.index)"
   ]
  },
  {
   "cell_type": "code",
   "execution_count": 74,
   "id": "9c3ee6b3",
   "metadata": {
    "scrolled": false
   },
   "outputs": [],
   "source": [
    "X = X.sort_index().fillna(0.)"
   ]
  },
  {
   "cell_type": "code",
   "execution_count": 75,
   "id": "f389825b",
   "metadata": {},
   "outputs": [],
   "source": [
    "X = X.loc['2004-03-31':]"
   ]
  },
  {
   "cell_type": "code",
   "execution_count": 76,
   "id": "c2470a7f",
   "metadata": {},
   "outputs": [],
   "source": [
    "y = X.copy()"
   ]
  },
  {
   "cell_type": "markdown",
   "id": "2c1b3d9a",
   "metadata": {},
   "source": [
    "# 1.) Come up with 6 search terms you think could nowcast earnings. (Different than the ones I used) Add in 3 terms that that you think will not Nowcast earnings. Pull in the gtrends data. Clean it to have a quarterly average."
   ]
  },
  {
   "cell_type": "code",
   "execution_count": 12,
   "id": "a7b67147",
   "metadata": {
    "scrolled": true
   },
   "outputs": [
    {
     "name": "stdout",
     "output_type": "stream",
     "text": [
      "Collecting pytrends\n",
      "  Downloading pytrends-4.9.2-py3-none-any.whl (15 kB)\n",
      "Requirement already satisfied: requests>=2.0 in c:\\users\\alexa\\anaconda3\\lib\\site-packages (from pytrends) (2.31.0)\n",
      "Requirement already satisfied: pandas>=0.25 in c:\\users\\alexa\\anaconda3\\lib\\site-packages (from pytrends) (2.0.3)\n",
      "Requirement already satisfied: lxml in c:\\users\\alexa\\anaconda3\\lib\\site-packages (from pytrends) (4.9.3)\n",
      "Requirement already satisfied: python-dateutil>=2.8.2 in c:\\users\\alexa\\anaconda3\\lib\\site-packages (from pandas>=0.25->pytrends) (2.8.2)\n",
      "Requirement already satisfied: pytz>=2020.1 in c:\\users\\alexa\\anaconda3\\lib\\site-packages (from pandas>=0.25->pytrends) (2023.3.post1)\n",
      "Requirement already satisfied: tzdata>=2022.1 in c:\\users\\alexa\\anaconda3\\lib\\site-packages (from pandas>=0.25->pytrends) (2023.3)\n",
      "Requirement already satisfied: numpy>=1.21.0 in c:\\users\\alexa\\anaconda3\\lib\\site-packages (from pandas>=0.25->pytrends) (1.24.3)\n",
      "Requirement already satisfied: charset-normalizer<4,>=2 in c:\\users\\alexa\\anaconda3\\lib\\site-packages (from requests>=2.0->pytrends) (2.0.4)\n",
      "Requirement already satisfied: idna<4,>=2.5 in c:\\users\\alexa\\anaconda3\\lib\\site-packages (from requests>=2.0->pytrends) (3.4)\n",
      "Requirement already satisfied: urllib3<3,>=1.21.1 in c:\\users\\alexa\\anaconda3\\lib\\site-packages (from requests>=2.0->pytrends) (1.26.16)\n",
      "Requirement already satisfied: certifi>=2017.4.17 in c:\\users\\alexa\\anaconda3\\lib\\site-packages (from requests>=2.0->pytrends) (2023.11.17)\n",
      "Requirement already satisfied: six>=1.5 in c:\\users\\alexa\\anaconda3\\lib\\site-packages (from python-dateutil>=2.8.2->pandas>=0.25->pytrends) (1.16.0)\n",
      "Installing collected packages: pytrends\n",
      "Successfully installed pytrends-4.9.2\n",
      "Note: you may need to restart the kernel to use updated packages.\n"
     ]
    }
   ],
   "source": [
    "pip install pytrends"
   ]
  },
  {
   "cell_type": "code",
   "execution_count": 13,
   "id": "54698d1d",
   "metadata": {},
   "outputs": [],
   "source": [
    "from pytrends.request import TrendReq"
   ]
  },
  {
   "cell_type": "code",
   "execution_count": 161,
   "id": "0cf724f7",
   "metadata": {},
   "outputs": [],
   "source": [
    "# Create pytrends object\n",
    "pytrends = TrendReq(hl='en-US', tz=360)\n",
    "\n",
    "# Set up the keywords and the timeframe\n",
    "#keywords = ['New Product', 'Layoffs', 'Employee Layoff', 'Holiday Sale', \"Workers pay\", 'Semiconductor', 'apple', 'iphone', 'App']\n",
    "keywords = [\"iPhone\", \"IOS\", \"Apple\", \"Mac\", \"Operating System\", \"App\", \"Water\", \"Banana\", \"Jump\"]\n",
    "start_date = '2004-01-01'\n",
    "end_date = '2024-01-01'\n",
    "\n",
    "# Create an empty DataFrame to store the results\n",
    "df = pd.DataFrame()\n",
    "\n",
    "# Iterate through keywords and fetch data\n",
    "for keyword in keywords:\n",
    "    pytrends.build_payload([keyword], cat=0, timeframe=f'{start_date} {end_date}', geo='', gprop='')\n",
    "    interest_over_time_df = pytrends.interest_over_time()\n",
    "    df[keyword] = interest_over_time_df[keyword]"
   ]
  },
  {
   "cell_type": "code",
   "execution_count": 162,
   "id": "5694510c",
   "metadata": {},
   "outputs": [],
   "source": [
    "df = df.resample(\"Q\").mean()"
   ]
  },
  {
   "cell_type": "code",
   "execution_count": 163,
   "id": "825232c1",
   "metadata": {},
   "outputs": [],
   "source": [
    "df = df.loc[:'2023-09-30']"
   ]
  },
  {
   "cell_type": "code",
   "execution_count": 171,
   "id": "f7cdf0b7",
   "metadata": {},
   "outputs": [
    {
     "data": {
      "text/html": [
       "<div>\n",
       "<style scoped>\n",
       "    .dataframe tbody tr th:only-of-type {\n",
       "        vertical-align: middle;\n",
       "    }\n",
       "\n",
       "    .dataframe tbody tr th {\n",
       "        vertical-align: top;\n",
       "    }\n",
       "\n",
       "    .dataframe thead th {\n",
       "        text-align: right;\n",
       "    }\n",
       "</style>\n",
       "<table border=\"1\" class=\"dataframe\">\n",
       "  <thead>\n",
       "    <tr style=\"text-align: right;\">\n",
       "      <th></th>\n",
       "      <th>iPhone</th>\n",
       "      <th>IOS</th>\n",
       "      <th>Apple</th>\n",
       "      <th>Mac</th>\n",
       "      <th>Operating System</th>\n",
       "      <th>App</th>\n",
       "      <th>Water</th>\n",
       "      <th>Banana</th>\n",
       "      <th>Jump</th>\n",
       "    </tr>\n",
       "    <tr>\n",
       "      <th>date</th>\n",
       "      <th></th>\n",
       "      <th></th>\n",
       "      <th></th>\n",
       "      <th></th>\n",
       "      <th></th>\n",
       "      <th></th>\n",
       "      <th></th>\n",
       "      <th></th>\n",
       "      <th></th>\n",
       "    </tr>\n",
       "  </thead>\n",
       "  <tbody>\n",
       "    <tr>\n",
       "      <th>2004-03-31</th>\n",
       "      <td>0.000000</td>\n",
       "      <td>1.000000</td>\n",
       "      <td>20.000000</td>\n",
       "      <td>76.666667</td>\n",
       "      <td>99.333333</td>\n",
       "      <td>2.000000</td>\n",
       "      <td>61.000000</td>\n",
       "      <td>36.000000</td>\n",
       "      <td>48.000000</td>\n",
       "    </tr>\n",
       "    <tr>\n",
       "      <th>2004-06-30</th>\n",
       "      <td>0.000000</td>\n",
       "      <td>1.666667</td>\n",
       "      <td>19.000000</td>\n",
       "      <td>71.333333</td>\n",
       "      <td>83.000000</td>\n",
       "      <td>1.333333</td>\n",
       "      <td>68.333333</td>\n",
       "      <td>37.333333</td>\n",
       "      <td>44.000000</td>\n",
       "    </tr>\n",
       "    <tr>\n",
       "      <th>2004-09-30</th>\n",
       "      <td>0.000000</td>\n",
       "      <td>1.333333</td>\n",
       "      <td>23.000000</td>\n",
       "      <td>70.000000</td>\n",
       "      <td>87.666667</td>\n",
       "      <td>1.333333</td>\n",
       "      <td>68.333333</td>\n",
       "      <td>37.000000</td>\n",
       "      <td>47.666667</td>\n",
       "    </tr>\n",
       "    <tr>\n",
       "      <th>2004-12-31</th>\n",
       "      <td>0.000000</td>\n",
       "      <td>1.000000</td>\n",
       "      <td>24.333333</td>\n",
       "      <td>75.000000</td>\n",
       "      <td>76.666667</td>\n",
       "      <td>2.000000</td>\n",
       "      <td>59.000000</td>\n",
       "      <td>43.000000</td>\n",
       "      <td>47.333333</td>\n",
       "    </tr>\n",
       "    <tr>\n",
       "      <th>2005-03-31</th>\n",
       "      <td>0.000000</td>\n",
       "      <td>1.000000</td>\n",
       "      <td>27.000000</td>\n",
       "      <td>76.666667</td>\n",
       "      <td>75.000000</td>\n",
       "      <td>1.666667</td>\n",
       "      <td>70.000000</td>\n",
       "      <td>40.666667</td>\n",
       "      <td>49.666667</td>\n",
       "    </tr>\n",
       "    <tr>\n",
       "      <th>...</th>\n",
       "      <td>...</td>\n",
       "      <td>...</td>\n",
       "      <td>...</td>\n",
       "      <td>...</td>\n",
       "      <td>...</td>\n",
       "      <td>...</td>\n",
       "      <td>...</td>\n",
       "      <td>...</td>\n",
       "      <td>...</td>\n",
       "    </tr>\n",
       "    <tr>\n",
       "      <th>2022-09-30</th>\n",
       "      <td>53.000000</td>\n",
       "      <td>19.333333</td>\n",
       "      <td>51.000000</td>\n",
       "      <td>42.666667</td>\n",
       "      <td>38.333333</td>\n",
       "      <td>80.333333</td>\n",
       "      <td>91.666667</td>\n",
       "      <td>63.333333</td>\n",
       "      <td>44.666667</td>\n",
       "    </tr>\n",
       "    <tr>\n",
       "      <th>2022-12-31</th>\n",
       "      <td>50.000000</td>\n",
       "      <td>16.000000</td>\n",
       "      <td>51.333333</td>\n",
       "      <td>46.000000</td>\n",
       "      <td>39.000000</td>\n",
       "      <td>76.666667</td>\n",
       "      <td>82.000000</td>\n",
       "      <td>59.333333</td>\n",
       "      <td>43.666667</td>\n",
       "    </tr>\n",
       "    <tr>\n",
       "      <th>2023-03-31</th>\n",
       "      <td>48.666667</td>\n",
       "      <td>13.333333</td>\n",
       "      <td>43.333333</td>\n",
       "      <td>43.000000</td>\n",
       "      <td>36.666667</td>\n",
       "      <td>78.000000</td>\n",
       "      <td>89.333333</td>\n",
       "      <td>63.333333</td>\n",
       "      <td>45.000000</td>\n",
       "    </tr>\n",
       "    <tr>\n",
       "      <th>2023-06-30</th>\n",
       "      <td>43.666667</td>\n",
       "      <td>14.000000</td>\n",
       "      <td>42.666667</td>\n",
       "      <td>38.666667</td>\n",
       "      <td>33.333333</td>\n",
       "      <td>76.666667</td>\n",
       "      <td>91.666667</td>\n",
       "      <td>61.000000</td>\n",
       "      <td>44.666667</td>\n",
       "    </tr>\n",
       "    <tr>\n",
       "      <th>2023-09-30</th>\n",
       "      <td>54.000000</td>\n",
       "      <td>16.000000</td>\n",
       "      <td>50.000000</td>\n",
       "      <td>41.666667</td>\n",
       "      <td>33.666667</td>\n",
       "      <td>80.333333</td>\n",
       "      <td>93.666667</td>\n",
       "      <td>58.666667</td>\n",
       "      <td>46.000000</td>\n",
       "    </tr>\n",
       "  </tbody>\n",
       "</table>\n",
       "<p>79 rows × 9 columns</p>\n",
       "</div>"
      ],
      "text/plain": [
       "               iPhone        IOS      Apple        Mac  Operating System  \\\n",
       "date                                                                       \n",
       "2004-03-31   0.000000   1.000000  20.000000  76.666667         99.333333   \n",
       "2004-06-30   0.000000   1.666667  19.000000  71.333333         83.000000   \n",
       "2004-09-30   0.000000   1.333333  23.000000  70.000000         87.666667   \n",
       "2004-12-31   0.000000   1.000000  24.333333  75.000000         76.666667   \n",
       "2005-03-31   0.000000   1.000000  27.000000  76.666667         75.000000   \n",
       "...               ...        ...        ...        ...               ...   \n",
       "2022-09-30  53.000000  19.333333  51.000000  42.666667         38.333333   \n",
       "2022-12-31  50.000000  16.000000  51.333333  46.000000         39.000000   \n",
       "2023-03-31  48.666667  13.333333  43.333333  43.000000         36.666667   \n",
       "2023-06-30  43.666667  14.000000  42.666667  38.666667         33.333333   \n",
       "2023-09-30  54.000000  16.000000  50.000000  41.666667         33.666667   \n",
       "\n",
       "                  App      Water     Banana       Jump  \n",
       "date                                                    \n",
       "2004-03-31   2.000000  61.000000  36.000000  48.000000  \n",
       "2004-06-30   1.333333  68.333333  37.333333  44.000000  \n",
       "2004-09-30   1.333333  68.333333  37.000000  47.666667  \n",
       "2004-12-31   2.000000  59.000000  43.000000  47.333333  \n",
       "2005-03-31   1.666667  70.000000  40.666667  49.666667  \n",
       "...               ...        ...        ...        ...  \n",
       "2022-09-30  80.333333  91.666667  63.333333  44.666667  \n",
       "2022-12-31  76.666667  82.000000  59.333333  43.666667  \n",
       "2023-03-31  78.000000  89.333333  63.333333  45.000000  \n",
       "2023-06-30  76.666667  91.666667  61.000000  44.666667  \n",
       "2023-09-30  80.333333  93.666667  58.666667  46.000000  \n",
       "\n",
       "[79 rows x 9 columns]"
      ]
     },
     "execution_count": 171,
     "metadata": {},
     "output_type": "execute_result"
    }
   ],
   "source": [
    "df"
   ]
  },
  {
   "cell_type": "markdown",
   "id": "73c7abb8",
   "metadata": {},
   "source": [
    "# 2.) Normalize all the X data"
   ]
  },
  {
   "cell_type": "code",
   "execution_count": 120,
   "id": "95a7bb4d",
   "metadata": {},
   "outputs": [],
   "source": [
    "from sklearn.preprocessing import StandardScaler"
   ]
  },
  {
   "cell_type": "code",
   "execution_count": 164,
   "id": "a03953b0",
   "metadata": {},
   "outputs": [],
   "source": [
    "scaler = StandardScaler()"
   ]
  },
  {
   "cell_type": "code",
   "execution_count": 165,
   "id": "397b45e8",
   "metadata": {
    "scrolled": false
   },
   "outputs": [],
   "source": [
    "X_scaled = scaler.fit_transform(df)"
   ]
  },
  {
   "cell_type": "markdown",
   "id": "f41c46a9",
   "metadata": {},
   "source": [
    "# 3.)  Import data. Train, Test, Holdout (80%,15%,5%)"
   ]
  },
  {
   "cell_type": "code",
   "execution_count": 123,
   "id": "29b0caaa",
   "metadata": {},
   "outputs": [],
   "source": [
    "from sklearn.model_selection import train_test_split"
   ]
  },
  {
   "cell_type": "code",
   "execution_count": 166,
   "id": "77671d95",
   "metadata": {},
   "outputs": [],
   "source": [
    "X_train, X_temp, y_train, y_temp = train_test_split(X,y, test_size = 0.2, random_state = 42)\n",
    "\n",
    "X_test, X_holdout, y_test, y_holdout = train_test_split(X_temp, y_temp, test_size = 0.25, random_state = 42)"
   ]
  },
  {
   "cell_type": "markdown",
   "id": "da43d5ef",
   "metadata": {},
   "source": [
    "# 4.) Run a Lasso with lambda of .5. Plot a bar chart."
   ]
  },
  {
   "cell_type": "code",
   "execution_count": 89,
   "id": "89eb77df",
   "metadata": {},
   "outputs": [],
   "source": [
    "from sklearn.linear_model import Lasso\n",
    "import matplotlib.pyplot as plt\n",
    "import numpy as np"
   ]
  },
  {
   "cell_type": "code",
   "execution_count": 167,
   "id": "8a190b5e",
   "metadata": {},
   "outputs": [],
   "source": [
    "lasso = Lasso(alpha = 0.5)"
   ]
  },
  {
   "cell_type": "code",
   "execution_count": 168,
   "id": "f7311bec",
   "metadata": {},
   "outputs": [
    {
     "data": {
      "text/html": [
       "<style>#sk-container-id-8 {color: black;}#sk-container-id-8 pre{padding: 0;}#sk-container-id-8 div.sk-toggleable {background-color: white;}#sk-container-id-8 label.sk-toggleable__label {cursor: pointer;display: block;width: 100%;margin-bottom: 0;padding: 0.3em;box-sizing: border-box;text-align: center;}#sk-container-id-8 label.sk-toggleable__label-arrow:before {content: \"▸\";float: left;margin-right: 0.25em;color: #696969;}#sk-container-id-8 label.sk-toggleable__label-arrow:hover:before {color: black;}#sk-container-id-8 div.sk-estimator:hover label.sk-toggleable__label-arrow:before {color: black;}#sk-container-id-8 div.sk-toggleable__content {max-height: 0;max-width: 0;overflow: hidden;text-align: left;background-color: #f0f8ff;}#sk-container-id-8 div.sk-toggleable__content pre {margin: 0.2em;color: black;border-radius: 0.25em;background-color: #f0f8ff;}#sk-container-id-8 input.sk-toggleable__control:checked~div.sk-toggleable__content {max-height: 200px;max-width: 100%;overflow: auto;}#sk-container-id-8 input.sk-toggleable__control:checked~label.sk-toggleable__label-arrow:before {content: \"▾\";}#sk-container-id-8 div.sk-estimator input.sk-toggleable__control:checked~label.sk-toggleable__label {background-color: #d4ebff;}#sk-container-id-8 div.sk-label input.sk-toggleable__control:checked~label.sk-toggleable__label {background-color: #d4ebff;}#sk-container-id-8 input.sk-hidden--visually {border: 0;clip: rect(1px 1px 1px 1px);clip: rect(1px, 1px, 1px, 1px);height: 1px;margin: -1px;overflow: hidden;padding: 0;position: absolute;width: 1px;}#sk-container-id-8 div.sk-estimator {font-family: monospace;background-color: #f0f8ff;border: 1px dotted black;border-radius: 0.25em;box-sizing: border-box;margin-bottom: 0.5em;}#sk-container-id-8 div.sk-estimator:hover {background-color: #d4ebff;}#sk-container-id-8 div.sk-parallel-item::after {content: \"\";width: 100%;border-bottom: 1px solid gray;flex-grow: 1;}#sk-container-id-8 div.sk-label:hover label.sk-toggleable__label {background-color: #d4ebff;}#sk-container-id-8 div.sk-serial::before {content: \"\";position: absolute;border-left: 1px solid gray;box-sizing: border-box;top: 0;bottom: 0;left: 50%;z-index: 0;}#sk-container-id-8 div.sk-serial {display: flex;flex-direction: column;align-items: center;background-color: white;padding-right: 0.2em;padding-left: 0.2em;position: relative;}#sk-container-id-8 div.sk-item {position: relative;z-index: 1;}#sk-container-id-8 div.sk-parallel {display: flex;align-items: stretch;justify-content: center;background-color: white;position: relative;}#sk-container-id-8 div.sk-item::before, #sk-container-id-8 div.sk-parallel-item::before {content: \"\";position: absolute;border-left: 1px solid gray;box-sizing: border-box;top: 0;bottom: 0;left: 50%;z-index: -1;}#sk-container-id-8 div.sk-parallel-item {display: flex;flex-direction: column;z-index: 1;position: relative;background-color: white;}#sk-container-id-8 div.sk-parallel-item:first-child::after {align-self: flex-end;width: 50%;}#sk-container-id-8 div.sk-parallel-item:last-child::after {align-self: flex-start;width: 50%;}#sk-container-id-8 div.sk-parallel-item:only-child::after {width: 0;}#sk-container-id-8 div.sk-dashed-wrapped {border: 1px dashed gray;margin: 0 0.4em 0.5em 0.4em;box-sizing: border-box;padding-bottom: 0.4em;background-color: white;}#sk-container-id-8 div.sk-label label {font-family: monospace;font-weight: bold;display: inline-block;line-height: 1.2em;}#sk-container-id-8 div.sk-label-container {text-align: center;}#sk-container-id-8 div.sk-container {/* jupyter's `normalize.less` sets `[hidden] { display: none; }` but bootstrap.min.css set `[hidden] { display: none !important; }` so we also need the `!important` here to be able to override the default hidden behavior on the sphinx rendered scikit-learn.org. See: https://github.com/scikit-learn/scikit-learn/issues/21755 */display: inline-block !important;position: relative;}#sk-container-id-8 div.sk-text-repr-fallback {display: none;}</style><div id=\"sk-container-id-8\" class=\"sk-top-container\"><div class=\"sk-text-repr-fallback\"><pre>Lasso(alpha=0.5)</pre><b>In a Jupyter environment, please rerun this cell to show the HTML representation or trust the notebook. <br />On GitHub, the HTML representation is unable to render, please try loading this page with nbviewer.org.</b></div><div class=\"sk-container\" hidden><div class=\"sk-item\"><div class=\"sk-estimator sk-toggleable\"><input class=\"sk-toggleable__control sk-hidden--visually\" id=\"sk-estimator-id-8\" type=\"checkbox\" checked><label for=\"sk-estimator-id-8\" class=\"sk-toggleable__label sk-toggleable__label-arrow\">Lasso</label><div class=\"sk-toggleable__content\"><pre>Lasso(alpha=0.5)</pre></div></div></div></div></div>"
      ],
      "text/plain": [
       "Lasso(alpha=0.5)"
      ]
     },
     "execution_count": 168,
     "metadata": {},
     "output_type": "execute_result"
    }
   ],
   "source": [
    "lasso.fit(X_scaled,y)"
   ]
  },
  {
   "cell_type": "code",
   "execution_count": 175,
   "id": "4708307a",
   "metadata": {},
   "outputs": [
    {
     "name": "stdout",
     "output_type": "stream",
     "text": [
      "[ 0.  0.  0. -0. -0.  0.  0.  0. -0.]\n"
     ]
    }
   ],
   "source": [
    "coefficients = lasso.coef_\n",
    "intercept = lasso.intercept_\n",
    "print(coefficients)"
   ]
  },
  {
   "cell_type": "code",
   "execution_count": 177,
   "id": "4e9a8478",
   "metadata": {},
   "outputs": [
    {
     "data": {
      "image/png": "[encoded data removed]",
      "text/plain": [
       "<Figure size 1200x500 with 1 Axes>"
      ]
     },
     "metadata": {},
     "output_type": "display_data"
    }
   ],
   "source": [
    "plt.figure(figsize = (12,5))\n",
    "categories = ['New Product', 'Layoffs', 'Employee Layoff', 'Holiday Sale', \"Workers pay\", 'Semiconductor', 'apple', 'iphone', 'App']\n",
    "plt.bar(range(len(coefficients)), coefficients)\n",
    "plt.axhline(0, color = 'red')\n",
    "plt.show()"
   ]
  },
  {
   "cell_type": "code",
   "execution_count": null,
   "id": "0dd10f36",
   "metadata": {},
   "outputs": [],
   "source": []
  },
  {
   "cell_type": "code",
   "execution_count": null,
   "id": "ab11d0b4",
   "metadata": {},
   "outputs": [],
   "source": []
  },
  {
   "cell_type": "markdown",
   "id": "e130a2be",
   "metadata": {},
   "source": [
    "# 5.) Do these coefficient magnitudes make sense?"
   ]
  },
  {
   "cell_type": "markdown",
   "id": "99f54db8",
   "metadata": {},
   "source": [
    "All of the coefficients are varying degrees of zero. All the coeffiencets shrunk to zero indicating that there was no relationship between them and the stock price of Apple. This does make sense in the grand scheme of things most of these headlines bight not be related to Apple and the movement of their share price."
   ]
  },
  {
   "cell_type": "code",
   "execution_count": null,
   "id": "bda82fa9",
   "metadata": {},
   "outputs": [],
   "source": []
  },
  {
   "cell_type": "markdown",
   "id": "3a2bd7d7",
   "metadata": {},
   "source": [
    "# 6.) Run a for loop looking at 10 different Lambdas and plot the coefficient magnitude for each."
   ]
  },
  {
   "cell_type": "code",
   "execution_count": null,
   "id": "1f115bee",
   "metadata": {},
   "outputs": [],
   "source": []
  },
  {
   "cell_type": "code",
   "execution_count": null,
   "id": "7a3e12d3",
   "metadata": {},
   "outputs": [],
   "source": []
  },
  {
   "cell_type": "markdown",
   "id": "17b28626",
   "metadata": {},
   "source": [
    "# 7.) Run a cross validation. What is your ideal lambda?"
   ]
  },
  {
   "cell_type": "code",
   "execution_count": null,
   "id": "9fc5cca1",
   "metadata": {},
   "outputs": [],
   "source": []
  },
  {
   "cell_type": "code",
   "execution_count": null,
   "id": "a58a192a",
   "metadata": {},
   "outputs": [],
   "source": []
  }
 ],
 "metadata": {
  "kernelspec": {
   "display_name": "Python 3 (ipykernel)",
   "language": "python",
   "name": "python3"
  },
  "language_info": {
   "codemirror_mode": {
    "name": "ipython",
    "version": 3
   },
   "file_extension": ".py",
   "mimetype": "text/x-python",
   "name": "python",
   "nbconvert_exporter": "python",
   "pygments_lexer": "ipython3",
   "version": "3.11.5"
  }
 },
 "nbformat": 4,
 "nbformat_minor": 5
}
